{
 "cells": [
  {
   "cell_type": "code",
   "execution_count": 8,
   "metadata": {},
   "outputs": [],
   "source": [
    "import numpy as np\n",
    "import scipy.io"
   ]
  },
  {
   "cell_type": "code",
   "execution_count": 9,
   "metadata": {},
   "outputs": [
    {
     "name": "stdout",
     "output_type": "stream",
     "text": [
      "dict_keys(['t', 'norm_rf', 'norm_vf', 'position', 'velocity', 'attitude', 'attitude_321', 'omega', 'bf_force', 'bf_torque', 'mass', 'max_deflection', 'max_deflection_rate', 'vc', 'range', 'reward', 'defl_both_reward', 'defl_diff_reward', 'rate_reward', 'tracking_reward', 'dlos_error', 'acom_error', 'omega_vio', 'attitude_vio', 'hit_reward', 'hit_50cm', 'hit_100cm', 'hit_200cm', 'value', 'load_vio', 'optical_flow', 'r_tm', 'v_tm', 'missile_acc', 'target_acc', 'dq_321', 'dq', 'los', 'dlos', 'aoa', 'ssa', 'deflection_rate', 'deflection', 'mapped_deflection', 'lagged_deflection', 'fpath', 'altitude', 'tracking_reward1', 'a_m', 'a_t', 'a_t_perp', 'look_angle', 'dp', 'ny2a', 'ly2d', 'vel_b', 'penalty', 'roll_reward', 'rollrate_reward', 'roll', 'obs_roll', 'constraint_rewards', 'constraint_vio', 'threat_miss', 'v_skew', 'norm_tvf', 'omega_x', 'acom_error_vec', 'a_com', 'df_n', 'df_y', 'ukf_P', 'ukf_E', 'obs_at'])\n"
     ]
    }
   ],
   "source": [
    "foo = np.load('traj.npy', allow_pickle=True).item()\n",
    "print(foo.keys())"
   ]
  },
  {
   "cell_type": "code",
   "execution_count": 4,
   "metadata": {},
   "outputs": [
    {
     "name": "stdout",
     "output_type": "stream",
     "text": [
      "(864, 4) (864, 1) (864, 1) (864, 3) (864, 3) (864, 3)\n"
     ]
    }
   ],
   "source": [
    "defl = np.asarray(foo['deflection'])\n",
    "att = np.asarray(foo['attitude'])\n",
    "aoa = np.expand_dims(np.asarray(foo['aoa']),axis=1)\n",
    "ssa =  np.expand_dims(np.asarray(foo['ssa']),axis=1)\n",
    "r_m = np.asarray(foo['position'])\n",
    "r_tm = np.asarray(foo['r_tm'])\n",
    "r_t = r_tm + r_m\n",
    "\n",
    "print(defl.shape, aoa.shape, ssa.shape, r_m.shape, r_tm.shape, r_t.shape)"
   ]
  },
  {
   "cell_type": "code",
   "execution_count": 5,
   "metadata": {},
   "outputs": [
    {
     "name": "stdout",
     "output_type": "stream",
     "text": [
      "(864, 16)\n"
     ]
    }
   ],
   "source": [
    "bar = np.hstack((defl, att, r_m, r_t, aoa, ssa))\n",
    "print(bar.shape)"
   ]
  },
  {
   "cell_type": "code",
   "execution_count": 6,
   "metadata": {},
   "outputs": [],
   "source": [
    "scipy.io.savemat('traj.mat', dict(bar=bar))  # have not checked this in Matlab\n",
    "\n",
    "np.savetxt(\"traj.csv\", bar, delimiter=\",\")  # this looks OK"
   ]
  }
 ],
 "metadata": {
  "kernelspec": {
   "display_name": "r15",
   "language": "python",
   "name": "python3"
  },
  "language_info": {
   "codemirror_mode": {
    "name": "ipython",
    "version": 3
   },
   "file_extension": ".py",
   "mimetype": "text/x-python",
   "name": "python",
   "nbconvert_exporter": "python",
   "pygments_lexer": "ipython3",
   "version": "3.10.8 | packaged by conda-forge | (main, Nov 24 2022, 14:07:00) [MSC v.1916 64 bit (AMD64)]"
  },
  "orig_nbformat": 4,
  "vscode": {
   "interpreter": {
    "hash": "9377f8a6c2847924a85864a7838b515367d4e0d05b4a8a81af9613bc26a94130"
   }
  }
 },
 "nbformat": 4,
 "nbformat_minor": 2
}
