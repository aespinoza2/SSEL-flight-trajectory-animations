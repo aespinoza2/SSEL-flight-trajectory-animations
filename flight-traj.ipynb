{
 "cells": [
  {
   "attachments": {},
   "cell_type": "markdown",
   "metadata": {},
   "source": [
    "## Flight trajectory data conversion from NumPy dictionary to CSV for FlightGear animation in MATLAB\n",
    "Import modules"
   ]
  },
  {
   "cell_type": "code",
   "execution_count": 11,
   "metadata": {},
   "outputs": [],
   "source": [
    "import numpy as np\n",
    "import scipy.io"
   ]
  },
  {
   "attachments": {},
   "cell_type": "markdown",
   "metadata": {},
   "source": [
    "Load and print keys to NumPy flight data dictionary"
   ]
  },
  {
   "cell_type": "code",
   "execution_count": 12,
   "metadata": {},
   "outputs": [
    {
     "name": "stdout",
     "output_type": "stream",
     "text": [
      "dict_keys(['t', 'norm_rf', 'norm_vf', 'position', 'velocity', 'attitude', 'attitude_321', 'omega', 'bf_force', 'bf_torque', 'mass', 'max_deflection', 'max_deflection_rate', 'vc', 'range', 'reward', 'defl_both_reward', 'defl_diff_reward', 'rate_reward', 'tracking_reward', 'dlos_error', 'acom_error', 'omega_vio', 'attitude_vio', 'hit_reward', 'hit_50cm', 'hit_100cm', 'hit_200cm', 'value', 'load_vio', 'optical_flow', 'r_tm', 'v_tm', 'missile_acc', 'target_acc', 'dq_321', 'dq', 'los', 'dlos', 'aoa', 'ssa', 'deflection_rate', 'deflection', 'mapped_deflection', 'lagged_deflection', 'fpath', 'altitude', 'tracking_reward1', 'a_m', 'a_t', 'a_t_perp', 'look_angle', 'dp', 'ny2a', 'ly2d', 'vel_b', 'penalty', 'roll_reward', 'rollrate_reward', 'roll', 'obs_roll', 'constraint_rewards', 'constraint_vio', 'threat_miss', 'v_skew', 'norm_tvf', 'omega_x', 'acom_error_vec', 'a_com', 'df_n', 'df_y', 'ukf_P', 'ukf_E', 'obs_at'])\n"
     ]
    }
   ],
   "source": [
    "foo = np.load('traj.npy', allow_pickle=True).item()\n",
    "print(foo.keys())"
   ]
  },
  {
   "attachments": {},
   "cell_type": "markdown",
   "metadata": {},
   "source": [
    "Save the desired trajectory data arrays and print dimensions"
   ]
  },
  {
   "cell_type": "code",
   "execution_count": 13,
   "metadata": {},
   "outputs": [
    {
     "name": "stdout",
     "output_type": "stream",
     "text": [
      "(864,) (864, 4) (864, 4) (864, 1) (864, 1) (864, 3) (864, 3) (864, 3)\n",
      "(864, 3)\n",
      "(864,)\n"
     ]
    }
   ],
   "source": [
    "t = np.asarray(foo['t'])\n",
    "defl = np.asarray(foo['deflection'])\n",
    "att = np.asarray(foo['attitude'])\n",
    "aoa = np.expand_dims(np.asarray(foo['aoa']),axis=1)\n",
    "ssa =  np.expand_dims(np.asarray(foo['ssa']),axis=1)\n",
    "r_m = np.asarray(foo['position'])\n",
    "r_tm = np.asarray(foo['r_tm'])\n",
    "r_t = r_tm + r_m\n",
    "alt = np.asarray(foo['altitude'])\n",
    "\n",
    "print(t.shape, defl.shape, att.shape, aoa.shape, ssa.shape, r_m.shape, r_tm.shape, r_t.shape)\n",
    "print(r_m.shape)\n",
    "print(alt.shape)"
   ]
  },
  {
   "attachments": {},
   "cell_type": "markdown",
   "metadata": {},
   "source": [
    "Print and verify time array is correct"
   ]
  },
  {
   "cell_type": "code",
   "execution_count": 14,
   "metadata": {},
   "outputs": [
    {
     "name": "stdout",
     "output_type": "stream",
     "text": [
      "[0.      0.004   0.008   0.012   0.016   0.02    0.024   0.028   0.032\n",
      " 0.036   0.04    0.044   0.048   0.052   0.056   0.06    0.064   0.068\n",
      " 0.072   0.076   0.08    0.084   0.088   0.092   0.096   0.1     0.104\n",
      " 0.108   0.112   0.116   0.12    0.124   0.128   0.132   0.136   0.14\n",
      " 0.144   0.148   0.152   0.156   0.16    0.164   0.168   0.172   0.176\n",
      " 0.18    0.184   0.188   0.192   0.196   0.2     0.204   0.208   0.212\n",
      " 0.216   0.22    0.224   0.228   0.232   0.236   0.24    0.244   0.248\n",
      " 0.252   0.256   0.26    0.264   0.268   0.272   0.276   0.28    0.284\n",
      " 0.288   0.292   0.296   0.3     0.304   0.308   0.312   0.316   0.32\n",
      " 0.324   0.328   0.332   0.336   0.34    0.344   0.348   0.352   0.356\n",
      " 0.36    0.364   0.368   0.372   0.376   0.38    0.384   0.388   0.392\n",
      " 0.396   0.4     0.404   0.408   0.412   0.416   0.42    0.424   0.428\n",
      " 0.432   0.436   0.44    0.444   0.448   0.452   0.456   0.46    0.464\n",
      " 0.468   0.472   0.476   0.48    0.484   0.488   0.492   0.496   0.5\n",
      " 0.504   0.508   0.512   0.516   0.52    0.524   0.528   0.532   0.536\n",
      " 0.54    0.544   0.548   0.552   0.556   0.56    0.564   0.568   0.572\n",
      " 0.576   0.58    0.584   0.588   0.592   0.596   0.6     0.604   0.608\n",
      " 0.612   0.616   0.62    0.624   0.628   0.632   0.636   0.64    0.644\n",
      " 0.648   0.652   0.656   0.66    0.664   0.668   0.672   0.676   0.68\n",
      " 0.684   0.688   0.692   0.696   0.7     0.704   0.708   0.712   0.716\n",
      " 0.72    0.724   0.728   0.732   0.736   0.74    0.744   0.748   0.752\n",
      " 0.756   0.76    0.764   0.768   0.772   0.776   0.78    0.784   0.788\n",
      " 0.792   0.796   0.8     0.804   0.808   0.812   0.816   0.82    0.824\n",
      " 0.828   0.832   0.836   0.84    0.844   0.848   0.852   0.856   0.86\n",
      " 0.864   0.868   0.872   0.876   0.88    0.884   0.888   0.892   0.896\n",
      " 0.9     0.904   0.908   0.912   0.916   0.92    0.924   0.928   0.932\n",
      " 0.936   0.94    0.944   0.948   0.952   0.956   0.96    0.964   0.968\n",
      " 0.972   0.976   0.98    0.984   0.988   0.992   0.996   1.      1.004\n",
      " 1.008   1.012   1.016   1.02    1.024   1.028   1.032   1.036   1.04\n",
      " 1.044   1.048   1.052   1.056   1.06    1.064   1.068   1.072   1.076\n",
      " 1.08    1.084   1.088   1.092   1.096   1.1     1.104   1.108   1.112\n",
      " 1.116   1.12    1.124   1.128   1.132   1.136   1.14    1.144   1.148\n",
      " 1.152   1.156   1.16    1.164   1.168   1.172   1.176   1.18    1.184\n",
      " 1.188   1.192   1.196   1.2     1.204   1.208   1.212   1.216   1.22\n",
      " 1.224   1.228   1.232   1.236   1.24    1.244   1.248   1.252   1.256\n",
      " 1.26    1.264   1.268   1.272   1.276   1.28    1.284   1.288   1.292\n",
      " 1.296   1.3     1.304   1.308   1.312   1.316   1.32    1.324   1.328\n",
      " 1.332   1.336   1.34    1.344   1.348   1.352   1.356   1.36    1.364\n",
      " 1.368   1.372   1.376   1.38    1.384   1.388   1.392   1.396   1.4\n",
      " 1.404   1.408   1.412   1.416   1.42    1.424   1.428   1.432   1.436\n",
      " 1.44    1.444   1.448   1.452   1.456   1.46    1.464   1.468   1.472\n",
      " 1.476   1.48    1.484   1.488   1.492   1.496   1.5     1.504   1.508\n",
      " 1.512   1.516   1.52    1.524   1.528   1.532   1.536   1.54    1.544\n",
      " 1.548   1.552   1.556   1.56    1.564   1.568   1.572   1.576   1.58\n",
      " 1.584   1.588   1.592   1.596   1.6     1.604   1.608   1.612   1.616\n",
      " 1.62    1.624   1.628   1.632   1.636   1.64    1.644   1.648   1.652\n",
      " 1.656   1.66    1.664   1.668   1.672   1.676   1.68    1.684   1.688\n",
      " 1.692   1.696   1.7     1.704   1.708   1.712   1.716   1.72    1.724\n",
      " 1.728   1.732   1.736   1.74    1.744   1.748   1.752   1.756   1.76\n",
      " 1.764   1.768   1.772   1.776   1.78    1.784   1.788   1.792   1.796\n",
      " 1.8     1.804   1.808   1.812   1.816   1.82    1.824   1.828   1.832\n",
      " 1.836   1.84    1.844   1.848   1.852   1.856   1.86    1.864   1.868\n",
      " 1.872   1.876   1.88    1.884   1.888   1.892   1.896   1.9     1.904\n",
      " 1.908   1.912   1.916   1.92    1.924   1.928   1.932   1.936   1.94\n",
      " 1.944   1.948   1.952   1.956   1.96    1.964   1.968   1.972   1.976\n",
      " 1.98    1.984   1.988   1.992   1.996   2.      2.004   2.008   2.012\n",
      " 2.016   2.02    2.024   2.028   2.032   2.036   2.04    2.044   2.048\n",
      " 2.052   2.056   2.06    2.064   2.068   2.072   2.076   2.08    2.084\n",
      " 2.088   2.092   2.096   2.1     2.104   2.108   2.112   2.116   2.12\n",
      " 2.124   2.128   2.132   2.136   2.14    2.144   2.148   2.152   2.156\n",
      " 2.16    2.164   2.168   2.172   2.176   2.18    2.184   2.188   2.192\n",
      " 2.196   2.2     2.204   2.208   2.212   2.216   2.22    2.224   2.228\n",
      " 2.232   2.236   2.24    2.244   2.248   2.252   2.256   2.26    2.264\n",
      " 2.268   2.272   2.276   2.28    2.284   2.288   2.292   2.296   2.3\n",
      " 2.304   2.308   2.312   2.316   2.32    2.324   2.328   2.332   2.336\n",
      " 2.34    2.344   2.348   2.352   2.356   2.36    2.364   2.368   2.372\n",
      " 2.376   2.38    2.384   2.388   2.392   2.396   2.4     2.404   2.408\n",
      " 2.412   2.416   2.42    2.424   2.428   2.432   2.436   2.44    2.444\n",
      " 2.448   2.452   2.456   2.46    2.464   2.468   2.472   2.476   2.48\n",
      " 2.484   2.488   2.492   2.496   2.5     2.504   2.508   2.512   2.516\n",
      " 2.52    2.524   2.528   2.532   2.536   2.54    2.544   2.548   2.552\n",
      " 2.556   2.56    2.564   2.568   2.572   2.576   2.58    2.584   2.588\n",
      " 2.592   2.596   2.6     2.604   2.608   2.612   2.616   2.62    2.624\n",
      " 2.628   2.632   2.636   2.64    2.644   2.648   2.652   2.656   2.66\n",
      " 2.664   2.668   2.672   2.676   2.68    2.684   2.688   2.692   2.696\n",
      " 2.7     2.704   2.708   2.712   2.716   2.72    2.724   2.728   2.732\n",
      " 2.736   2.74    2.744   2.748   2.752   2.756   2.76    2.764   2.768\n",
      " 2.772   2.776   2.78    2.784   2.788   2.792   2.796   2.8     2.804\n",
      " 2.808   2.812   2.816   2.82    2.824   2.828   2.832   2.836   2.84\n",
      " 2.844   2.848   2.852   2.856   2.86    2.864   2.868   2.872   2.876\n",
      " 2.88    2.884   2.888   2.892   2.896   2.9     2.904   2.908   2.912\n",
      " 2.916   2.92    2.924   2.928   2.932   2.936   2.94    2.944   2.948\n",
      " 2.952   2.956   2.96    2.964   2.968   2.972   2.976   2.98    2.984\n",
      " 2.988   2.992   2.996   3.      3.004   3.008   3.012   3.016   3.02\n",
      " 3.024   3.028   3.032   3.036   3.04    3.044   3.048   3.052   3.056\n",
      " 3.06    3.064   3.068   3.072   3.076   3.08    3.084   3.088   3.092\n",
      " 3.096   3.1     3.104   3.108   3.112   3.116   3.12    3.124   3.128\n",
      " 3.132   3.136   3.14    3.144   3.148   3.152   3.156   3.16    3.164\n",
      " 3.168   3.172   3.176   3.18    3.184   3.188   3.192   3.196   3.2\n",
      " 3.204   3.208   3.212   3.216   3.22    3.224   3.228   3.232   3.236\n",
      " 3.24    3.244   3.248   3.252   3.256   3.26    3.264   3.268   3.272\n",
      " 3.276   3.28    3.284   3.288   3.292   3.296   3.3     3.304   3.308\n",
      " 3.312   3.316   3.32    3.324   3.328   3.332   3.336   3.34    3.344\n",
      " 3.348   3.352   3.356   3.36    3.364   3.368   3.372   3.376   3.38\n",
      " 3.384   3.388   3.392   3.396   3.4     3.404   3.408   3.412   3.416\n",
      " 3.42    3.424   3.428   3.432   3.436   3.44    3.444   3.448   3.44994]\n"
     ]
    }
   ],
   "source": [
    "print(t)"
   ]
  },
  {
   "attachments": {},
   "cell_type": "markdown",
   "metadata": {},
   "source": [
    "Create single array from the desired trajectory data"
   ]
  },
  {
   "cell_type": "code",
   "execution_count": 16,
   "metadata": {},
   "outputs": [
    {
     "name": "stdout",
     "output_type": "stream",
     "text": [
      "(864, 16)\n"
     ]
    }
   ],
   "source": [
    "bar = np.hstack((defl, att, r_m, r_t, aoa, ssa))\n",
    "print(bar.shape)"
   ]
  },
  {
   "attachments": {},
   "cell_type": "markdown",
   "metadata": {},
   "source": [
    "Create matrix from single trajectory data array created above (bar) and convert matrix to csv with np.savetxt() function"
   ]
  },
  {
   "cell_type": "code",
   "execution_count": null,
   "metadata": {},
   "outputs": [],
   "source": [
    "scipy.io.savemat('traj.mat', dict(bar=bar))\n",
    "np.savetxt(\"traj.csv\", bar, delimiter=\",\")"
   ]
  },
  {
   "attachments": {},
   "cell_type": "markdown",
   "metadata": {},
   "source": [
    "Create matrix from time data array created above (t) and convert matrix to csv with np.savetxt() function"
   ]
  },
  {
   "cell_type": "code",
   "execution_count": null,
   "metadata": {},
   "outputs": [],
   "source": [
    "scipy.io.savemat('time.mat', dict(t=t))\n",
    "np.savetxt('time.csv', t, delimiter=\",\")"
   ]
  },
  {
   "attachments": {},
   "cell_type": "markdown",
   "metadata": {},
   "source": [
    "Save altitude data to matrix and convert to CSV"
   ]
  },
  {
   "cell_type": "code",
   "execution_count": 17,
   "metadata": {},
   "outputs": [],
   "source": [
    "scipy.io.savemat('alt.mat', dict(altitude=alt))\n",
    "np.savetxt('alt.csv', alt, delimiter=',')\n",
    "\n"
   ]
  }
 ],
 "metadata": {
  "kernelspec": {
   "display_name": "r15",
   "language": "python",
   "name": "python3"
  },
  "language_info": {
   "codemirror_mode": {
    "name": "ipython",
    "version": 3
   },
   "file_extension": ".py",
   "mimetype": "text/x-python",
   "name": "python",
   "nbconvert_exporter": "python",
   "pygments_lexer": "ipython3",
   "version": "3.10.8"
  },
  "orig_nbformat": 4,
  "vscode": {
   "interpreter": {
    "hash": "9377f8a6c2847924a85864a7838b515367d4e0d05b4a8a81af9613bc26a94130"
   }
  }
 },
 "nbformat": 4,
 "nbformat_minor": 2
}
